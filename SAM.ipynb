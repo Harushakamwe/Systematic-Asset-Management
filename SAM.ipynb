{
 "cells": [
  {
   "cell_type": "code",
   "execution_count": 2,
   "metadata": {},
   "outputs": [],
   "source": [
    "import yfinance as yf\n",
    "import pandas as pandas\n",
    "import numpy as numpy\n",
    "import matplotlib.pyplot as pyplot\n",
    "import cvxpy as cvxpy\n"
   ]
  },
  {
   "cell_type": "code",
   "execution_count": 10,
   "metadata": {},
   "outputs": [
    {
     "name": "stderr",
     "output_type": "stream",
     "text": [
      "[*********************100%***********************]  49 of 49 completed\n",
      "C:\\Users\\steha46\\AppData\\Local\\Temp\\ipykernel_11096\\820961771.py:27: FutureWarning: The default fill_method='pad' in Series.pct_change is deprecated and will be removed in a future version. Either fill in any non-leading NA values prior to calling pct_change or specify 'fill_method=None' to not fill NA values.\n",
      "  benchmark_returns = data[benchmark_ticker].pct_change().dropna()\n"
     ]
    }
   ],
   "source": [
    "# 50 largest companies in Sweden\n",
    "tickers = [\n",
    "    'INVE-B.ST', 'ATCO-B.ST', 'VOLV-B.ST', 'ASSA-B.ST', 'EQT.ST',\n",
    "    'SEB-A.ST', 'ERIC-B.ST', 'HEXA-B.ST', 'SAND.ST', 'HM-B.ST',\n",
    "    'SWED-A.ST', 'EPI-A.ST', 'SHB-A.ST', 'ESSITY-B.ST', 'ALFA.ST',\n",
    "    'EVO.ST', 'LATO-B.ST', 'INDU-A.ST', 'LIFCO-B.ST',\n",
    "    'LUND-B.ST', 'SAAB-B.ST', 'TELIA.ST', 'AKEL-D.ST',\n",
    "    'SOBI.ST', 'INDT.ST', 'SCA-B.ST', 'SKF-B.ST', 'SKA-B.ST',\n",
    "    'BEIJ-B.ST', 'ALIV-SDB.ST', 'SAVE.ST', 'HOLM-B.ST', 'AAK.ST',\n",
    "    'SWEC-B.ST', 'SECT-B.ST', 'SSAB-B.ST', 'AXFO.ST', 'GETI-B.ST',\n",
    "    'SAGA-B.ST', 'VOLCAR-B.ST', 'NDA-SE.ST', 'KINV-B.ST', 'BOL.ST',\n",
    "    'FABG.ST', 'BALD-B.ST', 'CAST.ST', 'PEAB-B.ST', 'NCC-B.ST'\n",
    "]\n",
    "\n",
    "# Reference index : OMX Stockholm 30\n",
    "benchmark_ticker = '^OMX'  \n",
    "\n",
    "# Analysis period, can easily be changed\n",
    "start_date = \"2010-01-01\"\n",
    "end_date = \"2024-11-30\"\n",
    "\n",
    "# Download historical closing prices\n",
    "data = yf.download(tickers + [benchmark_ticker], start=start_date, end=end_date)['Close']\n",
    "\n",
    "# Calculation of historical returns\n",
    "returns = data[tickers].pct_change().dropna()\n",
    "benchmark_returns = data[benchmark_ticker].pct_change().dropna()\n",
    "\n",
    "# Defining in- and out-of-sample\n",
    "split_date = \"2019-01-01\"\n",
    "returns_in = returns.loc[:split_date]\n",
    "returns_out = returns.loc[split_date:]"
   ]
  },
  {
   "cell_type": "code",
   "execution_count": 12,
   "metadata": {},
   "outputs": [
    {
     "name": "stdout",
     "output_type": "stream",
     "text": [
      "Ticker      INVE-B.ST  ATCO-B.ST  VOLV-B.ST  ASSA-B.ST    EQT.ST  SEB-A.ST  \\\n",
      "Date                                                                         \n",
      "2021-11-01   0.015412   0.003660   0.000900   0.005964 -0.010164  0.011546   \n",
      "2021-11-02   0.006220   0.000000   0.007996   0.011858  0.028795  0.010678   \n",
      "2021-11-03   0.016568   0.005792   0.011651   0.009766  0.031677  0.016393   \n",
      "2021-11-04   0.015811   0.003839   0.002450   0.001547  0.032597 -0.008244   \n",
      "2021-11-05   0.006496  -0.014659   0.006111  -0.014677  0.018737  0.014095   \n",
      "...               ...        ...        ...        ...       ...       ...   \n",
      "2024-11-25  -0.002681  -0.007507  -0.006630  -0.001805  0.032888 -0.001989   \n",
      "2024-11-26  -0.003360   0.001973  -0.007787  -0.012059 -0.011980 -0.010628   \n",
      "2024-11-27   0.001854  -0.002297   0.006726  -0.001526  0.007339  0.001007   \n",
      "2024-11-28   0.001514   0.000987   0.011136   0.014364  0.000317  0.014084   \n",
      "2024-11-29   0.005376   0.012816  -0.002937   0.009039  0.052548  0.001984   \n",
      "\n",
      "Ticker      ERIC-B.ST  HEXA-B.ST   SAND.ST   HM-B.ST  ...  SAGA-B.ST  \\\n",
      "Date                                                  ...              \n",
      "2021-11-01  -0.007872  -0.004348  0.004598  0.025338  ...   0.006548   \n",
      "2021-11-02  -0.014261   0.009825  0.000000 -0.003755  ...   0.004140   \n",
      "2021-11-03   0.017296   0.010450 -0.001831  0.003648  ...   0.001178   \n",
      "2021-11-04   0.000642   0.015335  0.015589  0.020838  ...   0.022353   \n",
      "2021-11-05   0.015174   0.004566 -0.002257  0.021837  ...   0.013809   \n",
      "...               ...        ...       ...       ...  ...        ...   \n",
      "2024-11-25   0.000449   0.014152  0.002961 -0.008044  ...   0.007627   \n",
      "2024-11-26   0.006727  -0.011378 -0.010827 -0.009731  ...  -0.002523   \n",
      "2024-11-27  -0.005791  -0.011509 -0.002985 -0.003275  ...   0.026982   \n",
      "2024-11-28   0.000448   0.012302  0.003992 -0.002300  ...  -0.011494   \n",
      "2024-11-29  -0.007165   0.008464  0.002485 -0.003623  ...   0.003322   \n",
      "\n",
      "Ticker      VOLCAR-B.ST  NDA-SE.ST  KINV-B.ST    BOL.ST   FABG.ST  BALD-B.ST  \\\n",
      "Date                                                                           \n",
      "2021-11-01    -0.071012   0.000952   0.003713  0.016507 -0.010330  -0.018965   \n",
      "2021-11-02    -0.042595   0.007607   0.007991 -0.032153  0.009743   0.021953   \n",
      "2021-11-03     0.015347   0.017176   0.000881  0.012752 -0.012405  -0.000962   \n",
      "2021-11-04     0.003397  -0.004639   0.016280 -0.008946  0.042219   0.039474   \n",
      "2021-11-05    -0.001354   0.016219  -0.009958 -0.004346  0.004687  -0.002470   \n",
      "...                 ...        ...        ...       ...       ...        ...   \n",
      "2024-11-25     0.028109   0.000818   0.020043  0.023809  0.002398   0.008049   \n",
      "2024-11-26    -0.028583  -0.004902  -0.015875 -0.010098 -0.005383  -0.019840   \n",
      "2024-11-27    -0.019190   0.000821  -0.003702 -0.000618  0.029465   0.041471   \n",
      "2024-11-28     0.027609   0.013536   0.008228 -0.004330 -0.006425  -0.004029   \n",
      "2024-11-29     0.009308  -0.001619  -0.002369  0.010873 -0.001764  -0.001428   \n",
      "\n",
      "Ticker       CAST.ST  PEAB-B.ST  NCC-B.ST  \n",
      "Date                                       \n",
      "2021-11-01 -0.009632   0.018570  0.009415  \n",
      "2021-11-02  0.008842  -0.005469  0.037308  \n",
      "2021-11-03  0.001315  -0.005499 -0.010276  \n",
      "2021-11-04  0.022319   0.021198  0.011032  \n",
      "2021-11-05 -0.001712   0.003610  0.012837  \n",
      "...              ...        ...       ...  \n",
      "2024-11-25  0.005998   0.011097  0.008105  \n",
      "2024-11-26 -0.006359  -0.020732 -0.011132  \n",
      "2024-11-27  0.025600   0.000000  0.012508  \n",
      "2024-11-28  0.003120  -0.001245 -0.001235  \n",
      "2024-11-29  0.003110  -0.000623  0.007421  \n",
      "\n",
      "[780 rows x 48 columns]\n"
     ]
    }
   ],
   "source": [
    "print(returns)"
   ]
  }
 ],
 "metadata": {
  "kernelspec": {
   "display_name": "Python 3",
   "language": "python",
   "name": "python3"
  },
  "language_info": {
   "codemirror_mode": {
    "name": "ipython",
    "version": 3
   },
   "file_extension": ".py",
   "mimetype": "text/x-python",
   "name": "python",
   "nbconvert_exporter": "python",
   "pygments_lexer": "ipython3",
   "version": "3.12.10"
  }
 },
 "nbformat": 4,
 "nbformat_minor": 2
}
